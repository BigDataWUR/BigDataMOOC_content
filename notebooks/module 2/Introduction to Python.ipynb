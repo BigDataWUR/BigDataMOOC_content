{
 "cells": [
  {
   "cell_type": "markdown",
   "id": "9221889f",
   "metadata": {},
   "source": [
    "# <u><p style=\"text-align: center;\">Introduction to Python</p></u>\n",
    "\n",
    "### Contents of this notebook\n",
    "*   Variables and values\n",
    "*   Primitive data types (string, integer, float, boolean)\n",
    "*   Conditional execution (if)\n",
    "*   Loops (for)\n",
    "*   Functions (definition and call)\n",
    "*   Structured data type (list)"
   ]
  },
  {
   "cell_type": "markdown",
   "id": "8d46e9e2",
   "metadata": {},
   "source": [
    "### A message before you start\n",
    "If you have never programmed before, this tutorial may be a bit scary for you. Please don't worry, also if you have very little of no programming experience, you can still work through the tutorials from this course. Only, if you **do** know some programming, you will take away more from those tutorials. The bottom line is: Don't worry! Whether you have programming knowledge or not, you'll be fine either way. "
   ]
  },
  {
   "cell_type": "markdown",
   "id": "9979657b",
   "metadata": {},
   "source": [
    "### Python\n",
    "The tutorials of this course are implemented in a programming language called Python. If you have programmed before but it was a long time ago, or in another programming language, this introduction will refresh your memory. If you have never programmed before, this introduction may teach you just enough Python to manage the tutorials. If you want to learn more than this tutorial offers you, we give you some Further Reading suggestion at the bottom."
   ]
  },
  {
   "cell_type": "markdown",
   "id": "28efb393",
   "metadata": {},
   "source": [
    "#### <u>Variables</u>\n",
    "Variables are small pieces of memory that can store a value. They have a **name**, which makes it easy to retrieve the **value**. You could imagine that in Pythons memory is a large chest with drawers in them: each drawer is a variable. Each drawer has a label (the name), and inside the drawer is some content (the value). Whenever a variable value is needed, we can call its name, and then the value is retrieved. Or, in the analogy, when the name of the variable is mentioned, we pull open the drawer with that label, and we find the content inside, which we need to work with. Anything can be used as a variable name, as long as it is one word (no spaces!) and starts with a letter.\n",
    "\n",
    "We define always define a new variable by stating the name we want to give this variable and **assigning** a value to it, using the = sign. If we assign a new value to the same variable again, then the new value will overwrite the previous value. Python always works from top to bottom: the latest value is the value it will work with. We assign values to variables in the following way (see examples in the cell below, you can also define a few variables of your own in the cell). We can use the print statement to see the variable value on screen. Also try and assign a new value to the same variable, and see what happens."
   ]
  },
  {
   "cell_type": "code",
   "execution_count": null,
   "id": "fd3de4c5",
   "metadata": {},
   "outputs": [],
   "source": [
    "value1 = 5\n",
    "value2 = 10\n",
    "print(value1)\n",
    "print(value2)"
   ]
  },
  {
   "cell_type": "markdown",
   "id": "39e828e1",
   "metadata": {},
   "source": [
    "#### <u>Operators</u>\n",
    "Now that we have variables, we can make calculations as well. We can use operators such as +, -, \\*, and so on. If we want to remember the outcome of a calculation, we can store it in a new variable. For example, below you see that a new variable **result** is defined, which gets as value the outcome of the sum of **value1** and **value2**. Python still remembers those from the previous cell: check out what the values are and whether the sum is correct. \n",
    "\n",
    "The next example in the cell retrieves the value that is now stored in the **result** variable, doubles it, and stores it again in a new value called **doubled**.\n",
    "\n",
    "You can also change the values of **value1** and **value2** in the cell above, run it, and then run this cell here again. Do you see the different outcome? You can try some of your own calculations as well."
   ]
  },
  {
   "cell_type": "code",
   "execution_count": null,
   "id": "80507eb0",
   "metadata": {},
   "outputs": [],
   "source": [
    "result = value1 + value2\n",
    "print(result)\n",
    "doubled = result * 2\n",
    "print(doubled)"
   ]
  },
  {
   "cell_type": "markdown",
   "id": "074930d9",
   "metadata": {},
   "source": [
    "#### <u>Primitive data types</u>\n",
    "Variables have not only a name, but also a *type* (also known as 'primitive data type'). The type specifies what kind of value is stored in the variable. We have just seen examples of storing whole numbers (without decimal point), those were of type ***integer***. But you can also store a piece of text: in that case the type is ***string***. In the cell below you see that variable **name** is of this type. A ***float*** is a variable that contains a decimal number. A ***boolean*** can hold as value either *True* or *False*. \n",
    "\n",
    "The type of the variable determines what operations it accepts. For example, a string variable cannot do multiplication. In Python, the value that is given to a variable during assignment determines the type of the variable: as soon as a value is assigned, it is clear what the variable's type is. Here are some examples: "
   ]
  },
  {
   "cell_type": "code",
   "execution_count": null,
   "id": "84498ef7",
   "metadata": {},
   "outputs": [],
   "source": [
    "name = 'Jessica'               # string\n",
    "age = 45                       # integer\n",
    "height = 1.75                  # float\n",
    "has_driving_license = True     # boolean"
   ]
  },
  {
   "cell_type": "markdown",
   "id": "71f28301",
   "metadata": {},
   "source": [
    "#### <u>Control flow</u>\n",
    "Python includes tools that allow to control the execution flow of our code. Normally, a piece of Python code is executed from left to right and from top to bottom. We can change the order of execution by including a **conditional statement (`if`)**: Only execute this (indented) part of code if the condition is true, otherwise skip it. The example below, with the temperature, will make this clear, hopefully. You can see that multiple conditions can be added, as if you are working through a decision tree. The final action is preceded by 'else', meaning: no more conditions, \"if still none of the conditions was true, then do this\"."
   ]
  },
  {
   "cell_type": "markdown",
   "id": "b48e5fa4",
   "metadata": {},
   "source": [
    "##### Conditional execution: `if`  \n",
    "We can have a conditional statement (`if`) using the following syntax:"
   ]
  },
  {
   "cell_type": "raw",
   "id": "6960ed53",
   "metadata": {},
   "source": [
    "if conditionA:               # if conditionA is true,\n",
    "    ...                      # perform this code\n",
    "elif conditionB:             # else (conditionA was not true), if conditionB is true, \n",
    "     ..                      # perform this code\n",
    "else:                        # in any other case (conditionB was also not true)\n",
    "    ...                      # perform this code"
   ]
  },
  {
   "cell_type": "markdown",
   "id": "89e3a01b",
   "metadata": {},
   "source": [
    "Each condition, following `if`  or `elif`  (short for \"else if\"), needs to be an expression that is either True or False. If the condition is true, then the indented code is executed. If the condition is false, then the indented code is skipped. `else` does not need a condition, but covers all the remaining cases (for which none of the earlier conditions was true). Below is an example of an `if`-statement; you can change the value for *temperature* to see what the effect is:"
   ]
  },
  {
   "cell_type": "code",
   "execution_count": null,
   "id": "f28638ae",
   "metadata": {},
   "outputs": [],
   "source": [
    "temperature = 25\n",
    "\n",
    "if temperature < 15:\n",
    "    print('Cold')\n",
    "elif temperature < 25:\n",
    "    print('Tepid')\n",
    "else:\n",
    "    print('Hot')"
   ]
  },
  {
   "cell_type": "markdown",
   "id": "2af87977",
   "metadata": {},
   "source": [
    "##### Conditional statement: `for` loop\n",
    "Next to the conditional `if` statements, that signify a choice, we can also repeat parts of the code by a **control structure** called **`for` loop**. In a `for` loop, the (indented) part of the code is repeated as many times as is indicated. When all the repetitions have been done, Python continues with the next code underneath the `for` loop. We will now see examples of both conditional and repetitive execution.\n",
    "\n",
    "So we can repeat the execution of some statements using a `for` loop. The first line of the `for` loop code determines how these repetitions are carried out. An iterating **variable** is defined that takes on the values of a given **range**. You are free to give this variable any name you like - it should be a new, not existing variable. Also, you can determine the range of values that this variable should have. During the execution of the `for` loop, the variable takes on the values from the range, one after the other. First, the variable takes the first value of the range, and the indented code (the indented loop body) is executed for the first time. When execution has finished, the variable takes on the next value of the range, and the same code is executed again (but now with a different value for the variable). After each execution of the body, the variable takes on the next value, and repeats the code, until the final value in the range has been reached. Then the loop stops, and the code following the loop (if any) is executed next. "
   ]
  },
  {
   "cell_type": "raw",
   "id": "e454ed00",
   "metadata": {},
   "source": [
    "for variable in range:       # the iterating variable is defined, and also the range of values it should take on. \n",
    "    ...\n",
    "    ..."
   ]
  },
  {
   "cell_type": "markdown",
   "id": "2638e877",
   "metadata": {},
   "source": [
    "For example we can square and print all the elements of a list using a `for` loop:"
   ]
  },
  {
   "cell_type": "code",
   "execution_count": null,
   "id": "c0c47eea",
   "metadata": {},
   "outputs": [],
   "source": [
    "for element in [1, 2, 3, 4, 5]:         # the variable element has first value 1, then 2, then 3, then 4, and finally 5.\n",
    "    print(element**2)                   # for each value, this print statement results in a different number each time."
   ]
  },
  {
   "cell_type": "markdown",
   "id": "99c3ed17",
   "metadata": {},
   "source": [
    "#### <u>Functions</u>\n",
    "We can package several statements into reusable packages called **functions**. A function is defined first, and can be called afterwards. There are lots of standard functions in Python already, such as *print*. A function has zero or more **parameters**, provided between parentheses after its name. The print function takes one argument, which then gets printed on screen. Usually (but not necessarily), functions provide a return value: the function result.\n",
    "\n",
    "An example of a function in mathematics is the function **square**. It has one parameter: the number that needs to be squared. When we call function **square**, we have to provide an argument for it. For example, we can call it with argument the value 3. The function takes that argument, does its job (namely: square it), and returns the function result: the value 9.\n",
    "\n",
    "So a function needs to be **defined**, and then it needs to be **called** for something to happen. A function is called by its name and by providing the required arguments (check the call to function print in previous examples). When a function has more than one argument, the order of the arguments matters\n",
    "\n",
    "Here is an example of how a function is defined:"
   ]
  },
  {
   "cell_type": "raw",
   "id": "940db86e",
   "metadata": {},
   "source": [
    "def foo(parameter1, parameter2, ...):     # the function name is foo\n",
    "    ...\n",
    "    ...\n",
    "    return ..."
   ]
  },
  {
   "cell_type": "markdown",
   "id": "a0f91d79",
   "metadata": {},
   "source": [
    "Below is an example of a function that adds two numbers: `addition` . The function definition indicates that two arguments are required. The function body calculates the sum of these two arguments. The function returns the **return value** of the function, which is in this case the sum (stored in variable **result**). \n",
    "\n",
    "In the example below, the function is **called** from within the print statement, which is in itself a function. So the **print** function needs to print something. What will it print? Well, it will print whatever the call to function **addition** gives back as return value. \n",
    "\n",
    "We can't call function **addition** just like that: it needs arguments. The function definition states that it requires two arguments: **number_1** and **number_2**, in that order. In the call, we need to provide two concrete arguments that have actual numbers as values, so that the function can make an actual calculation. In this example, we use the two variables **x** and **y** as arguments of the call, which were already defined before the function definition. When the function is called, it relates variable **x** to its parameter **number_1**, and variable **y** to its parameter **number_2**. The function body is then carried out with the actual values that were provided through **x** and **y**. Finally, the function returns the return value (variable **result**), which is then printed. In fact, the function result is used as an argument itself for a call to the print function."
   ]
  },
  {
   "cell_type": "code",
   "execution_count": null,
   "id": "b050c032",
   "metadata": {},
   "outputs": [],
   "source": [
    "x = 5\n",
    "y = 6\n",
    "\n",
    "def addition(number_1, number_2):\n",
    "    result = number_1 + number_2\n",
    "    return result\n",
    "\n",
    "print(addition(x, y))"
   ]
  },
  {
   "cell_type": "markdown",
   "id": "1ae794da",
   "metadata": {},
   "source": [
    "#### <u>Data structures</u>\n",
    "\n",
    "#### Lists\n",
    "\n",
    "There are situations where we need to store and work with multiple values. It would be tedious to have to define a single variable for each value. Instead, we prefer to use a data structure such as a **list**. Lists can can hold multiple values, usually referred to as *elements* of the list. The values are stored sequentially. A list is denoted by brackets like below: "
   ]
  },
  {
   "cell_type": "code",
   "execution_count": null,
   "id": "f4b80995",
   "metadata": {},
   "outputs": [],
   "source": [
    "a_list = []                             # a_list is an 'empty list', a list with nothing in it\n",
    "another_list = [1, 2, 3, 4, 5]          # another_list is a list containing 5 elements\n",
    "print(a_list)\n",
    "print(another_list)"
   ]
  },
  {
   "cell_type": "markdown",
   "id": "dafe64a5",
   "metadata": {},
   "source": [
    "We can refer to the *entire list* by its name (such as in the print statement above, which prints the list **a_list**, or **another_list**). We can also address *individual elements* themselves. To adress an elements of a list we can use its position in the list, also called *index* number. For example, we can print element number 0 or the list (the first position is position 0), or the element on position 1, or on position 5. To do this, we place the *index* number of the element we want between square brackets behind the name of the list. So if we ask for the first element of the list, we get only that element, which is no longer a list. Indexes can only be integers, whole numbers For example:"
   ]
  },
  {
   "cell_type": "code",
   "execution_count": null,
   "id": "218409c5",
   "metadata": {},
   "outputs": [],
   "source": [
    "print(another_list[0])              # element zero, which is 1\n",
    "print(another_list[1])              # element 1 is the second element in another_list\n",
    "# and so on\n",
    "print(another_list[5])              # notice that element 5 does not exist so this line will cause an error!"
   ]
  },
  {
   "cell_type": "markdown",
   "id": "0b92b0d3",
   "metadata": {},
   "source": [
    "We can extract a sub-sequence of a list using the **slicing** notation. The result is a subset of the original list, literally a *slice* of the original list, which itself is still a list. Wie indicate the slicing notation also within brackets, but this time with a starting number which is **(inclusive)**, and an ending number which is **(exclusive)**. Indices of a sub-sequence should also be integers, whole numbers. The syntax of a slice is:"
   ]
  },
  {
   "cell_type": "code",
   "execution_count": null,
   "id": "0c125181",
   "metadata": {},
   "outputs": [],
   "source": [
    "start = 1\n",
    "end = 3\n",
    "another_list[start:end]             # start is the start index of the slice (inclusive), end is the end index (exclusive)"
   ]
  },
  {
   "cell_type": "markdown",
   "id": "5381dd2e",
   "metadata": {},
   "source": [
    "Consequently, to extract the elements at indices 1 to 3 from `another_list` we can also write a colon, which indicates a range. "
   ]
  },
  {
   "cell_type": "code",
   "execution_count": null,
   "id": "fbae689a",
   "metadata": {},
   "outputs": [],
   "source": [
    "result = another_list[1:4]\n",
    "print(result)"
   ]
  },
  {
   "cell_type": "markdown",
   "id": "be1e295c",
   "metadata": {},
   "source": [
    "#### Dictionaries\n",
    "\n",
    "Python has another useful data structure: the dictionary. A dictionary consists of key-value pairs. Like in a real dictionary: you look up a word, and then you find the value, which is a description connected to that word. Also, as every entry in a real dictionary is unique, every key is unique. However, values can appear multiple times. \n",
    "\n",
    "In Python, a dictionary is defined with a set of curly brackets: { }. Inside, we find key-value pairs as **key : value**. An example of a dictionary is below:"
   ]
  },
  {
   "cell_type": "code",
   "execution_count": null,
   "id": "af7ce7f4",
   "metadata": {},
   "outputs": [],
   "source": [
    "a_dictionary = {'one':1, 'two':2, 'three':3}\n",
    "print(a_dictionary)\n",
    "\n",
    "#ask for the value of key 'one'\n",
    "print(a_dictionary['one'])\n",
    "#ask for the value of key 'two'\n",
    "print(a_dictionary['two'])\n",
    "#ask for the value of key 'three'\n",
    "print(a_dictionary['three'])"
   ]
  },
  {
   "cell_type": "markdown",
   "id": "29612cce",
   "metadata": {},
   "source": [
    "#### <u>Methods</u>\n",
    "Data structures have another advantage: they have certain functions available to them, called **methods**. For example, **lists** have methods to *count*, *sort* or *append* items to the list (and more). Those methods are already available for datastructures, so you don't need to define them yourself anymore. A method works just like a function, but it has a different notation: using a full stop. For example, if we had a list called `my_list` and we wanted to sort it, we would say: `my_list.sort()`. If we had defined a function `sort` for it, we would need `my_list` as argument, `sort(my_list)`. But now that `sort` is a method, it's clear that it's called for the datastructure before the full stop: `my_list`, and no argument is given. Of course if any other arguments are needed, they should still be provided. For example, the method `count` needs to know which element should be counted, so that should be provided as an argument. Below are some examples:"
   ]
  },
  {
   "cell_type": "code",
   "execution_count": null,
   "id": "2b285842",
   "metadata": {},
   "outputs": [],
   "source": [
    "my_list = [3, 8, 6, 1, 8, 9, 2]    \n",
    "my_list.sort()                  # sort the elements in the list\n",
    "print(my_list)\n",
    "\n",
    "print(my_list.count(8))         # count the number of occurrences of value 8 in the list"
   ]
  },
  {
   "cell_type": "markdown",
   "id": "38642b76",
   "metadata": {},
   "source": [
    "Using `append` is a common way to **insert** elements to lists. Play around with these examples a bit!"
   ]
  },
  {
   "cell_type": "code",
   "execution_count": null,
   "id": "b7f9e11b",
   "metadata": {},
   "outputs": [],
   "source": [
    "#by using 'append'\n",
    "a_list = [2,5,8]\n",
    "a_list.append(10)               # element 10 is added to the end of a_list\n",
    "print(a_list)\n",
    "\n",
    "#or by concatenating lists\n",
    "a_list = a_list + [10]          # this is equivalent to a_list.append(10); we can only concatenate a list to another list, not to a single element\n",
    "print(a_list)\n",
    "a_list = a_list + [9,8,7]       # the result of a concatenation is one single (longer) list\n",
    "print(a_list)\n",
    "a_list = [-10] + a_list        # we can also add an alement to the beginning of the list\n",
    "print(a_list)"
   ]
  },
  {
   "cell_type": "markdown",
   "id": "a11b9255",
   "metadata": {},
   "source": [
    "### Further reading\n",
    "\n",
    "* [Python website](https://www.python.org/doc/)\n",
    "* [Python tutorial](https://docs.python.org/3/tutorial/index.html)"
   ]
  }
 ],
 "metadata": {
  "kernelspec": {
   "display_name": "Python 3 (ipykernel)",
   "language": "python",
   "name": "python3"
  },
  "language_info": {
   "codemirror_mode": {
    "name": "ipython",
    "version": 3
   },
   "file_extension": ".py",
   "mimetype": "text/x-python",
   "name": "python",
   "nbconvert_exporter": "python",
   "pygments_lexer": "ipython3",
   "version": "3.9.12"
  }
 },
 "nbformat": 4,
 "nbformat_minor": 5
}
